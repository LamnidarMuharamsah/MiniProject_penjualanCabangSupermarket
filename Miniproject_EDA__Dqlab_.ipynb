{
  "nbformat": 4,
  "nbformat_minor": 0,
  "metadata": {
    "colab": {
      "provenance": [],
      "authorship_tag": "ABX9TyPdjF2TxZBnPyBKj5L9vX+n",
      "include_colab_link": true
    },
    "kernelspec": {
      "name": "python3",
      "display_name": "Python 3"
    },
    "language_info": {
      "name": "python"
    }
  },
  "cells": [
    {
      "cell_type": "markdown",
      "metadata": {
        "id": "view-in-github",
        "colab_type": "text"
      },
      "source": [
        "<a href=\"https://colab.research.google.com/github/LamnidarMuharamsah/MiniProject_penjualanCabangSupermarket/blob/main/Miniproject_EDA__Dqlab_.ipynb\" target=\"_parent\"><img src=\"https://colab.research.google.com/assets/colab-badge.svg\" alt=\"Open In Colab\"/></a>"
      ]
    },
    {
      "cell_type": "code",
      "source": [
        "import pandas as pd\n",
        "import matplotlib.pyplot as plt\n",
        "\n",
        "#Baca CSV File\n",
        "order_df = pd.read_csv(\"https://storage.googleapis.com/dqlab-dataset/order.csv\")\n",
        "\n",
        "#Info Dataframe\n",
        "order_df.info()"
      ],
      "metadata": {
        "colab": {
          "base_uri": "https://localhost:8080/"
        },
        "id": "dz37gj1tLOtI",
        "outputId": "1d8d42a9-973a-484c-833b-4748d680b863"
      },
      "execution_count": 2,
      "outputs": [
        {
          "output_type": "stream",
          "name": "stdout",
          "text": [
            "<class 'pandas.core.frame.DataFrame'>\n",
            "RangeIndex: 49999 entries, 0 to 49998\n",
            "Data columns (total 12 columns):\n",
            " #   Column                 Non-Null Count  Dtype  \n",
            "---  ------                 --------------  -----  \n",
            " 0   order_id               49999 non-null  object \n",
            " 1   quantity               49999 non-null  int64  \n",
            " 2   product_id             49999 non-null  object \n",
            " 3   price                  49999 non-null  int64  \n",
            " 4   seller_id              49999 non-null  object \n",
            " 5   freight_value          49999 non-null  int64  \n",
            " 6   customer_id            49999 non-null  object \n",
            " 7   order_status           49999 non-null  object \n",
            " 8   purchase_date          49999 non-null  object \n",
            " 9   payment_type           49999 non-null  object \n",
            " 10  product_category_name  49999 non-null  object \n",
            " 11  product_weight_gram    49980 non-null  float64\n",
            "dtypes: float64(1), int64(3), object(8)\n",
            "memory usage: 4.6+ MB\n"
          ]
        }
      ]
    },
    {
      "cell_type": "code",
      "source": [
        "# Median price yang dibayar customer dari masing-masing metode pembayaran.\n",
        "median_price = order_df[\"price\"].groupby(order_df[\"payment_type\"]).median()\n",
        "print(median_price)"
      ],
      "metadata": {
        "colab": {
          "base_uri": "https://localhost:8080/"
        },
        "id": "3jQxJDb0Pa6H",
        "outputId": "03212431-2a93-49fa-db7b-db9816367071"
      },
      "execution_count": 3,
      "outputs": [
        {
          "output_type": "stream",
          "name": "stdout",
          "text": [
            "payment_type\n",
            "credit card        2587500.0\n",
            "debit card         2621500.0\n",
            "e-wallet           2589000.0\n",
            "virtual account    2643000.0\n",
            "Name: price, dtype: float64\n"
          ]
        }
      ]
    },
    {
      "cell_type": "code",
      "source": [
        "# Ubah freight_value menjadi shipping_cost dan cari shipping_cost\n",
        "# termahal dari data penjualan tersebut menggunakan sort.\n",
        "order_df.rename(columns={\"freight_value\": \"shipping_cost\"}, inplace=True)\n",
        "sort_value = order_df.sort_values(by=\"shipping_cost\", ascending=0)\n",
        "sort_value.shipping_cost"
      ],
      "metadata": {
        "colab": {
          "base_uri": "https://localhost:8080/"
        },
        "id": "n850mVvkSM4c",
        "outputId": "0de8a2a9-c30c-456a-cd8b-985c324a2639"
      },
      "execution_count": 5,
      "outputs": [
        {
          "output_type": "execute_result",
          "data": {
            "text/plain": [
              "23829    200000\n",
              "12011    200000\n",
              "10984    200000\n",
              "29722    200000\n",
              "15259    200000\n",
              "          ...  \n",
              "2891       9000\n",
              "36815      9000\n",
              "8175       9000\n",
              "4034       9000\n",
              "32994      9000\n",
              "Name: shipping_cost, Length: 49999, dtype: int64"
            ]
          },
          "metadata": {},
          "execution_count": 5
        }
      ]
    },
    {
      "cell_type": "code",
      "source": [
        "# Untuk product_category_name, berapa rata-rata weight produk tersebut\n",
        "# dan standar deviasi mana yang terkecil dari weight tersebut,\n",
        "mean_value = order_df[\"product_weight_gram\"].groupby(order_df[\"product_category_name\"]).mean()\n",
        "print(mean_value.sort_values())\n",
        "std_value = order_df[\"product_weight_gram\"].groupby(order_df[\"product_category_name\"]).std()\n",
        "print(std_value.sort_values())"
      ],
      "metadata": {
        "colab": {
          "base_uri": "https://localhost:8080/"
        },
        "id": "FO68ob7sW_LM",
        "outputId": "111c058e-e02a-4c3d-f8ff-d87a8a2e0b72"
      },
      "execution_count": 6,
      "outputs": [
        {
          "output_type": "stream",
          "name": "stdout",
          "text": [
            "product_category_name\n",
            "beauty         2120.088396\n",
            "automotive     2129.559039\n",
            "electronics    2144.751191\n",
            "toys           2203.863643\n",
            "gadget         2229.632942\n",
            "fashion        2246.516901\n",
            "sports         2251.879909\n",
            "utilities      2291.029868\n",
            "Name: product_weight_gram, dtype: float64\n",
            "product_category_name\n",
            "automotive     3799.884166\n",
            "beauty         3837.474929\n",
            "electronics    3839.271768\n",
            "fashion        3858.885213\n",
            "gadget         3955.792741\n",
            "toys           3956.814749\n",
            "sports         4032.850044\n",
            "utilities      4150.509909\n",
            "Name: product_weight_gram, dtype: float64\n"
          ]
        }
      ]
    },
    {
      "cell_type": "code",
      "source": [
        "# Buat histogram quantity penjualan dari dataset tersebutuntuk melihat persebaran quantity\n",
        "# penjualan tersebut dengan bins = 5 dan figsize= (4,5)\n",
        "order_df[[\"quantity\"]].hist(figsize=(4, 5), bins=5)\n",
        "plt.show()"
      ],
      "metadata": {
        "colab": {
          "base_uri": "https://localhost:8080/",
          "height": 336
        },
        "id": "o9WY4X-5YXUK",
        "outputId": "91b4749c-02d7-4f58-f825-c0d2adf9a323"
      },
      "execution_count": 7,
      "outputs": [
        {
          "output_type": "display_data",
          "data": {
            "text/plain": [
              "<Figure size 288x360 with 1 Axes>"
            ],
            "image/png": "[encoded data removed]"
          },
          "metadata": {
            "needs_background": "light"
          }
        }
      ]
    }
  ]
}